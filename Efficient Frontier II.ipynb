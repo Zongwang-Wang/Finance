{
 "cells": [
  {
   "cell_type": "code",
   "execution_count": 1,
   "id": "821e6a7b-22a8-4c7f-9cf7-00b19c0c89e3",
   "metadata": {},
   "outputs": [],
   "source": [
    "%load_ext autoreload\n",
    "%autoreload 2\n",
    "%matplotlib inline\n",
    "import Risk_Kit as erk\n",
    "import numpy as np\n",
    "import pandas as pd"
   ]
  },
  {
   "cell_type": "code",
   "execution_count": 2,
   "id": "1b342a2d-7a2d-4622-97b5-1f5783a971d3",
   "metadata": {},
   "outputs": [],
   "source": [
    "ind = erk.get_ind_returns()\n",
    "er = erk.annualized_rets(ind[\"1996\":\"2000\"],12)\n",
    "cov = ind[\"1996\":\"2000\"].cov()"
   ]
  },
  {
   "cell_type": "code",
   "execution_count": 3,
   "id": "3b79c622-a425-4cb1-9477-cc70a5957040",
   "metadata": {},
   "outputs": [],
   "source": [
    "def portfolio_return(weights, returns):\n",
    "    return weights.T @ returns \n",
    "\n",
    "def portfolio_vol(weights, covmat):\n",
    "    return (weights.T @ covmat @ weights)**0.5\n"
   ]
  },
  {
   "cell_type": "code",
   "execution_count": 4,
   "id": "a189bdc7-2f1d-4b91-8761-025025e8b711",
   "metadata": {},
   "outputs": [
    {
     "data": {
      "text/plain": [
       "Food     0.116799\n",
       "Beer     0.141126\n",
       "Smoke    0.107830\n",
       "Coal     0.414689\n",
       "dtype: float64"
      ]
     },
     "execution_count": 4,
     "metadata": {},
     "output_type": "execute_result"
    }
   ],
   "source": [
    "l = [\"Food\",\"Beer\",\"Smoke\",\"Coal\"]\n",
    "er[l]"
   ]
  },
  {
   "cell_type": "code",
   "execution_count": null,
   "id": "e02fb5b8-5a2d-42a1-9f15-819af1f0356e",
   "metadata": {},
   "outputs": [],
   "source": []
  },
  {
   "cell_type": "code",
   "execution_count": null,
   "id": "cac6600f-cd91-457c-84fc-d5eee8f436a8",
   "metadata": {},
   "outputs": [],
   "source": []
  },
  {
   "cell_type": "code",
   "execution_count": 5,
   "id": "8c9fd3ce-6176-4aec-b4ea-be328f101197",
   "metadata": {},
   "outputs": [
    {
     "data": {
      "text/html": [
       "<div>\n",
       "<style scoped>\n",
       "    .dataframe tbody tr th:only-of-type {\n",
       "        vertical-align: middle;\n",
       "    }\n",
       "\n",
       "    .dataframe tbody tr th {\n",
       "        vertical-align: top;\n",
       "    }\n",
       "\n",
       "    .dataframe thead th {\n",
       "        text-align: right;\n",
       "    }\n",
       "</style>\n",
       "<table border=\"1\" class=\"dataframe\">\n",
       "  <thead>\n",
       "    <tr style=\"text-align: right;\">\n",
       "      <th></th>\n",
       "      <th>Food</th>\n",
       "      <th>Beer</th>\n",
       "      <th>Smoke</th>\n",
       "      <th>Coal</th>\n",
       "    </tr>\n",
       "  </thead>\n",
       "  <tbody>\n",
       "    <tr>\n",
       "      <th>Food</th>\n",
       "      <td>0.002609</td>\n",
       "      <td>0.002379</td>\n",
       "      <td>0.002061</td>\n",
       "      <td>0.000027</td>\n",
       "    </tr>\n",
       "    <tr>\n",
       "      <th>Beer</th>\n",
       "      <td>0.002379</td>\n",
       "      <td>0.005264</td>\n",
       "      <td>0.001359</td>\n",
       "      <td>0.001728</td>\n",
       "    </tr>\n",
       "    <tr>\n",
       "      <th>Smoke</th>\n",
       "      <td>0.002061</td>\n",
       "      <td>0.001359</td>\n",
       "      <td>0.008349</td>\n",
       "      <td>-0.000733</td>\n",
       "    </tr>\n",
       "    <tr>\n",
       "      <th>Coal</th>\n",
       "      <td>0.000027</td>\n",
       "      <td>0.001728</td>\n",
       "      <td>-0.000733</td>\n",
       "      <td>0.018641</td>\n",
       "    </tr>\n",
       "  </tbody>\n",
       "</table>\n",
       "</div>"
      ],
      "text/plain": [
       "           Food      Beer     Smoke      Coal\n",
       "Food   0.002609  0.002379  0.002061  0.000027\n",
       "Beer   0.002379  0.005264  0.001359  0.001728\n",
       "Smoke  0.002061  0.001359  0.008349 -0.000733\n",
       "Coal   0.000027  0.001728 -0.000733  0.018641"
      ]
     },
     "execution_count": 5,
     "metadata": {},
     "output_type": "execute_result"
    }
   ],
   "source": [
    "cov.loc[l, l]"
   ]
  },
  {
   "cell_type": "code",
   "execution_count": 6,
   "id": "ad88dfbb-c768-4312-9f20-8218744212ce",
   "metadata": {},
   "outputs": [],
   "source": [
    "weights = np.array([0.25, 0.5,0.75,1])"
   ]
  },
  {
   "cell_type": "code",
   "execution_count": 7,
   "id": "c603745b-0761-4a9d-9b1d-00d235fbcf74",
   "metadata": {},
   "outputs": [
    {
     "data": {
      "text/plain": [
       "array([0.25, 0.5 , 0.75, 1.  ])"
      ]
     },
     "execution_count": 7,
     "metadata": {},
     "output_type": "execute_result"
    }
   ],
   "source": [
    "weights"
   ]
  },
  {
   "cell_type": "code",
   "execution_count": 8,
   "id": "82880533-15d0-46f9-8c71-b97df75ca90a",
   "metadata": {},
   "outputs": [
    {
     "data": {
      "text/plain": [
       "0.1668685544571875"
      ]
     },
     "execution_count": 8,
     "metadata": {},
     "output_type": "execute_result"
    }
   ],
   "source": [
    "(weights.T @ cov.loc[l, l] @ weights) **0.5"
   ]
  },
  {
   "cell_type": "code",
   "execution_count": 9,
   "id": "b12d8c14-3ad0-4920-a311-d291c591e98b",
   "metadata": {},
   "outputs": [
    {
     "data": {
      "text/plain": [
       "0.5953243772641041"
      ]
     },
     "execution_count": 9,
     "metadata": {},
     "output_type": "execute_result"
    }
   ],
   "source": [
    "erk.portfolio_return(weights, er[l])"
   ]
  },
  {
   "cell_type": "code",
   "execution_count": 10,
   "id": "e9da8f92-a4d2-4de6-b699-9a7cfe733ebe",
   "metadata": {},
   "outputs": [
    {
     "data": {
      "text/plain": [
       "0.1668685544571875"
      ]
     },
     "execution_count": 10,
     "metadata": {},
     "output_type": "execute_result"
    }
   ],
   "source": [
    "erk.portfolio_vol(weights, cov.loc[l,l])"
   ]
  },
  {
   "cell_type": "code",
   "execution_count": 11,
   "id": "f19a4017-fb3e-4867-a112-afcdd2c61c93",
   "metadata": {},
   "outputs": [],
   "source": [
    "l = [\"Games\",\"Fin\"]"
   ]
  },
  {
   "cell_type": "code",
   "execution_count": 12,
   "id": "99617078-9f31-4123-9f21-94674b96e7d2",
   "metadata": {},
   "outputs": [],
   "source": [
    "n_points = 20\n",
    "weights = [np.array([w, 1-w]) for w in np.linspace(0, 1, n_points)]"
   ]
  },
  {
   "cell_type": "code",
   "execution_count": 13,
   "id": "3443a39e-fad6-46bc-b9b4-c617c35a4fe6",
   "metadata": {},
   "outputs": [
    {
     "data": {
      "text/plain": [
       "[array([0., 1.]),\n",
       " array([0.05263158, 0.94736842]),\n",
       " array([0.10526316, 0.89473684]),\n",
       " array([0.15789474, 0.84210526]),\n",
       " array([0.21052632, 0.78947368]),\n",
       " array([0.26315789, 0.73684211]),\n",
       " array([0.31578947, 0.68421053]),\n",
       " array([0.36842105, 0.63157895]),\n",
       " array([0.42105263, 0.57894737]),\n",
       " array([0.47368421, 0.52631579]),\n",
       " array([0.52631579, 0.47368421]),\n",
       " array([0.57894737, 0.42105263]),\n",
       " array([0.63157895, 0.36842105]),\n",
       " array([0.68421053, 0.31578947]),\n",
       " array([0.73684211, 0.26315789]),\n",
       " array([0.78947368, 0.21052632]),\n",
       " array([0.84210526, 0.15789474]),\n",
       " array([0.89473684, 0.10526316]),\n",
       " array([0.94736842, 0.05263158]),\n",
       " array([1., 0.])]"
      ]
     },
     "execution_count": 13,
     "metadata": {},
     "output_type": "execute_result"
    }
   ],
   "source": [
    "weights"
   ]
  },
  {
   "cell_type": "code",
   "execution_count": 14,
   "id": "24613695-8b56-4103-84eb-8e33214709c8",
   "metadata": {},
   "outputs": [
    {
     "data": {
      "text/plain": [
       "list"
      ]
     },
     "execution_count": 14,
     "metadata": {},
     "output_type": "execute_result"
    }
   ],
   "source": [
    "type([np.array([0.5, 0.5])])\n"
   ]
  },
  {
   "cell_type": "code",
   "execution_count": null,
   "id": "eedf7f06-caac-4adb-a6ed-459043a6c1f7",
   "metadata": {},
   "outputs": [],
   "source": []
  },
  {
   "cell_type": "code",
   "execution_count": 15,
   "id": "b59a8d79-7272-4983-9f2f-7dc6c6154373",
   "metadata": {},
   "outputs": [
    {
     "data": {
      "text/plain": [
       "<AxesSubplot:xlabel='Vol', ylabel='R'>"
      ]
     },
     "execution_count": 15,
     "metadata": {},
     "output_type": "execute_result"
    },
    {
     "data": {
      "image/png": "[encoded data removed]",
      "text/plain": [
       "<Figure size 640x480 with 1 Axes>"
      ]
     },
     "metadata": {},
     "output_type": "display_data"
    }
   ],
   "source": [
    "rets = [erk.portfolio_return(w, er[l]) for w in weights]\n",
    "vols = [erk.portfolio_vol(w, cov.loc[l,l]) for w in weights]\n",
    "ef = pd.DataFrame ({\"R\":rets,\"Vol\":vols})\n",
    "\n",
    "ef.plot.scatter(x=\"Vol\", y=\"R\")"
   ]
  },
  {
   "cell_type": "code",
   "execution_count": 16,
   "id": "4754918d-27f2-4d25-9a6c-a903085e4ac3",
   "metadata": {},
   "outputs": [
    {
     "data": {
      "text/plain": [
       "<AxesSubplot:xlabel='Volatility'>"
      ]
     },
     "execution_count": 16,
     "metadata": {},
     "output_type": "execute_result"
    },
    {
     "data": {
      "image/png": "[encoded data removed]",
      "text/plain": [
       "<Figure size 640x480 with 1 Axes>"
      ]
     },
     "metadata": {},
     "output_type": "display_data"
    }
   ],
   "source": [
    "l = [\"Fin\", \"Beer\"]\n",
    "erk.plot_ef2(25, er[l], cov.loc[l,l], style=\".-\")"
   ]
  },
  {
   "cell_type": "code",
   "execution_count": null,
   "id": "198ddd9a-d610-495e-a24c-e1910f30ba05",
   "metadata": {},
   "outputs": [],
   "source": []
  },
  {
   "cell_type": "code",
   "execution_count": null,
   "id": "a47cb0e6-3d42-4d9a-8f93-4a4f1e517482",
   "metadata": {},
   "outputs": [],
   "source": []
  }
 ],
 "metadata": {
  "kernelspec": {
   "display_name": "Python 3 (ipykernel)",
   "language": "python",
   "name": "python3"
  },
  "language_info": {
   "codemirror_mode": {
    "name": "ipython",
    "version": 3
   },
   "file_extension": ".py",
   "mimetype": "text/x-python",
   "name": "python",
   "nbconvert_exporter": "python",
   "pygments_lexer": "ipython3",
   "version": "3.9.13"
  }
 },
 "nbformat": 4,
 "nbformat_minor": 5
}
