{
 "cells": [
  {
   "cell_type": "markdown",
   "id": "515a814b-ceea-4482-9c93-0654da52480e",
   "metadata": {},
   "source": [
    "$$ PV(L) = \\sum_{i=1}^{k} B(t_i) L_i$$"
   ]
  },
  {
   "cell_type": "markdown",
   "id": "d42aaf88-bd6c-4a86-a26e-42b3189c94fc",
   "metadata": {},
   "source": [
    "$$B(t)(1+r)^t = 1$$"
   ]
  },
  {
   "cell_type": "code",
   "execution_count": 1,
   "id": "5456ae45-7a85-4e5b-9813-60e7039b498a",
   "metadata": {},
   "outputs": [],
   "source": [
    "import pandas as pd\n",
    "import numpy as np\n",
    "import Risk_Kit as erk\n",
    "%load_ext autoreload\n",
    "%autoreload 2"
   ]
  },
  {
   "cell_type": "code",
   "execution_count": 2,
   "id": "85a67145-bfb3-4dd0-8f03-95699003b88a",
   "metadata": {},
   "outputs": [],
   "source": [
    "def discount(t, r): \n",
    "    \"\"\"\n",
    "    Compute the price of a pure discount bond that pays a dollar at time t, given the interest rate r\n",
    "    \"\"\"\n",
    "    return (1+r)**(-t) #or 1/(1+r)**t\n"
   ]
  },
  {
   "cell_type": "code",
   "execution_count": 3,
   "id": "961b5d1f-cd5c-43af-b527-c2ef7f82829b",
   "metadata": {},
   "outputs": [
    {
     "data": {
      "text/plain": [
       "0.7440939148967249"
      ]
     },
     "execution_count": 3,
     "metadata": {},
     "output_type": "execute_result"
    }
   ],
   "source": [
    "discount(10, 0.03)"
   ]
  },
  {
   "cell_type": "code",
   "execution_count": 4,
   "id": "4874cd49-cab2-42dc-be73-51ca0e39f9d3",
   "metadata": {},
   "outputs": [],
   "source": [
    "def pv(l, r):\n",
    "    \n",
    "    dates = l.index\n",
    "    discounts = discount(dates, r)\n",
    "    return (discounts*l).sum()"
   ]
  },
  {
   "cell_type": "code",
   "execution_count": 5,
   "id": "8e009593-e124-4f43-8b62-4873649f0ec2",
   "metadata": {},
   "outputs": [],
   "source": [
    "liabilities = pd.Series(data=[1, 1.5, 2, 2.5], index=[3, 3.5, 4, 4.5])"
   ]
  },
  {
   "cell_type": "code",
   "execution_count": 6,
   "id": "cc519c70-47b3-41c9-af40-bf365643f8d9",
   "metadata": {},
   "outputs": [
    {
     "data": {
      "text/plain": [
       "3.0    1.0\n",
       "3.5    1.5\n",
       "4.0    2.0\n",
       "4.5    2.5\n",
       "dtype: float64"
      ]
     },
     "execution_count": 6,
     "metadata": {},
     "output_type": "execute_result"
    }
   ],
   "source": [
    "liabilities"
   ]
  },
  {
   "cell_type": "code",
   "execution_count": 7,
   "id": "3fa41e66-409b-4c9d-8349-f3e1f6eeab9e",
   "metadata": {},
   "outputs": [
    {
     "data": {
      "text/plain": [
       "6.233320315080045"
      ]
     },
     "execution_count": 7,
     "metadata": {},
     "output_type": "execute_result"
    }
   ],
   "source": [
    "pv(liabilities, 0.03)"
   ]
  },
  {
   "cell_type": "code",
   "execution_count": 8,
   "id": "c675f7b5-6a74-4987-a1dd-b0bd7ed9d26c",
   "metadata": {},
   "outputs": [
    {
     "data": {
      "text/plain": [
       "7.0"
      ]
     },
     "execution_count": 8,
     "metadata": {},
     "output_type": "execute_result"
    }
   ],
   "source": [
    "liabilities.sum()"
   ]
  },
  {
   "cell_type": "code",
   "execution_count": 9,
   "id": "314f9bb4-7dfa-42bc-8163-8e6b696648d1",
   "metadata": {},
   "outputs": [],
   "source": [
    "def funding_ratio(assets, liabilities, r):\n",
    "    return assets/pv(liabilities, r)"
   ]
  },
  {
   "cell_type": "code",
   "execution_count": 10,
   "id": "42bee7dd-2a81-410e-ac61-ea3aa800dd2c",
   "metadata": {},
   "outputs": [
    {
     "data": {
      "text/plain": [
       "0.8021407126958777"
      ]
     },
     "execution_count": 10,
     "metadata": {},
     "output_type": "execute_result"
    }
   ],
   "source": [
    "funding_ratio(5, liabilities, 0.03)"
   ]
  },
  {
   "cell_type": "code",
   "execution_count": 11,
   "id": "5cda4f0f-7bad-45d4-8b94-9630edaed276",
   "metadata": {},
   "outputs": [
    {
     "data": {
      "text/plain": [
       "0.7720304366941648"
      ]
     },
     "execution_count": 11,
     "metadata": {},
     "output_type": "execute_result"
    }
   ],
   "source": [
    "funding_ratio(5, liabilities, 0.02)"
   ]
  },
  {
   "cell_type": "code",
   "execution_count": 12,
   "id": "dfeb1175-2d42-4f1b-a89a-cf0c306d3452",
   "metadata": {},
   "outputs": [
    {
     "data": {
      "text/plain": [
       "0.8649082768407927"
      ]
     },
     "execution_count": 12,
     "metadata": {},
     "output_type": "execute_result"
    }
   ],
   "source": [
    "funding_ratio(5, liabilities, 0.05)\n"
   ]
  },
  {
   "cell_type": "code",
   "execution_count": 13,
   "id": "a3cd205a-bf6d-4abe-9a78-2ac88fd7f5c4",
   "metadata": {},
   "outputs": [],
   "source": [
    "import ipywidgets as widgets\n",
    "from IPython.display import display\n",
    "%matplotlib inline"
   ]
  },
  {
   "cell_type": "code",
   "execution_count": 14,
   "id": "0516b993-eade-4f24-94c8-3870c93ace75",
   "metadata": {},
   "outputs": [
    {
     "data": {
      "application/vnd.jupyter.widget-view+json": {
       "model_id": "2692ec19a1d647fdbacb4a318441786e",
       "version_major": 2,
       "version_minor": 0
      },
      "text/plain": [
       "interactive(children=(IntSlider(value=1, description='assets', max=10, min=1), FloatSlider(value=0.1, descript…"
      ]
     },
     "metadata": {},
     "output_type": "display_data"
    }
   ],
   "source": [
    "def show_funding_ratio(assets, r):\n",
    "    fr = funding_ratio(assets, liabilities, r)\n",
    "    print(f'{fr*100:.2f}')\n",
    "    \n",
    "controls = widgets.interactive(show_funding_ratio,\n",
    "                               assets = widgets.IntSlider(min=1, max=10, step=1, values=5),\n",
    "                               r= (0, 0.2, 0.01)\n",
    "                              )\n",
    "display(controls)"
   ]
  },
  {
   "cell_type": "code",
   "execution_count": null,
   "id": "c3354522-87ed-40ad-8bad-0d1c80bd3e52",
   "metadata": {},
   "outputs": [],
   "source": []
  }
 ],
 "metadata": {
  "kernelspec": {
   "display_name": "Python 3 (ipykernel)",
   "language": "python",
   "name": "python3"
  },
  "language_info": {
   "codemirror_mode": {
    "name": "ipython",
    "version": 3
   },
   "file_extension": ".py",
   "mimetype": "text/x-python",
   "name": "python",
   "nbconvert_exporter": "python",
   "pygments_lexer": "ipython3",
   "version": "3.9.13"
  }
 },
 "nbformat": 4,
 "nbformat_minor": 5
}
