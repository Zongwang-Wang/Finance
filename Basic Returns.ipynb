{
 "cells": [
  {
   "cell_type": "code",
   "execution_count": 2,
   "id": "ccbdcd0b-fa69-4646-bcec-c9be247455dd",
   "metadata": {},
   "outputs": [],
   "source": [
    "import pandas as pd"
   ]
  },
  {
   "cell_type": "code",
   "execution_count": 3,
   "id": "c3654e72-e6d5-4e9f-94c5-12e75df0ff7a",
   "metadata": {},
   "outputs": [],
   "source": [
    "df = pd.read_excel(r'C:\\Users\\analyst2.LCA\\OneDrive - crescendoam.com\\Desktop\\Feb 2023\\QQQ.xlsx')\n",
    "                   "
   ]
  },
  {
   "cell_type": "code",
   "execution_count": 4,
   "id": "91fd1c81-9d28-4954-98b5-6f017549ed4e",
   "metadata": {},
   "outputs": [
    {
     "name": "stdout",
     "output_type": "stream",
     "text": [
      "                 Ticker        QQQ US Equity\n",
      "0                 Field              PX_Last\n",
      "1                 Start  2022-11-30 00:00:00\n",
      "2                   End  2023-02-21 00:00:00\n",
      "3                   NaN                  NaN\n",
      "4   2022-11-30 00:00:00               293.36\n",
      "5   2022-12-01 00:00:00               293.72\n",
      "6   2022-12-02 00:00:00               292.55\n",
      "7   2022-12-05 00:00:00               287.64\n",
      "8   2022-12-06 00:00:00               281.68\n",
      "9   2022-12-07 00:00:00               280.53\n",
      "10  2022-12-08 00:00:00               283.85\n",
      "11  2022-12-09 00:00:00               282.04\n",
      "12  2022-12-12 00:00:00               285.58\n",
      "13  2022-12-13 00:00:00               288.65\n",
      "14  2022-12-14 00:00:00               286.51\n",
      "15  2022-12-15 00:00:00               276.89\n",
      "16  2022-12-16 00:00:00               274.25\n",
      "17  2022-12-19 00:00:00               269.75\n",
      "18  2022-12-20 00:00:00               269.54\n",
      "19  2022-12-21 00:00:00               273.45\n",
      "20  2022-12-22 00:00:00               266.76\n",
      "21  2022-12-23 00:00:00               267.36\n",
      "22  2022-12-27 00:00:00               263.58\n",
      "23  2022-12-28 00:00:00                260.1\n",
      "24  2022-12-29 00:00:00               266.44\n",
      "25  2022-12-30 00:00:00               266.28\n",
      "26  2023-01-03 00:00:00               264.48\n",
      "27  2023-01-04 00:00:00               265.74\n",
      "28  2023-01-05 00:00:00               261.58\n",
      "29  2023-01-06 00:00:00                268.8\n",
      "30  2023-01-09 00:00:00               270.54\n",
      "31  2023-01-10 00:00:00               272.83\n",
      "32  2023-01-11 00:00:00               277.55\n",
      "33  2023-01-12 00:00:00               279.05\n",
      "34  2023-01-13 00:00:00               280.97\n",
      "35  2023-01-17 00:00:00               281.54\n",
      "36  2023-01-18 00:00:00               277.88\n",
      "37  2023-01-19 00:00:00               275.15\n",
      "38  2023-01-20 00:00:00               282.68\n",
      "39  2023-01-23 00:00:00               288.96\n",
      "40  2023-01-24 00:00:00               288.37\n",
      "41  2023-01-25 00:00:00               287.73\n",
      "42  2023-01-26 00:00:00               293.34\n",
      "43  2023-01-27 00:00:00               296.26\n",
      "44  2023-01-30 00:00:00               290.27\n",
      "45  2023-01-31 00:00:00               294.62\n",
      "46  2023-02-01 00:00:00               300.92\n",
      "47  2023-02-02 00:00:00               311.72\n",
      "48  2023-02-03 00:00:00               306.18\n",
      "49  2023-02-06 00:00:00               303.59\n",
      "50  2023-02-07 00:00:00               309.88\n",
      "51  2023-02-08 00:00:00               304.37\n",
      "52  2023-02-09 00:00:00               301.68\n",
      "53  2023-02-10 00:00:00                299.7\n",
      "54  2023-02-13 00:00:00                304.5\n",
      "55  2023-02-14 00:00:00               306.75\n",
      "56  2023-02-15 00:00:00                309.1\n",
      "57  2023-02-16 00:00:00                303.3\n",
      "58  2023-02-17 00:00:00               301.16\n",
      "59  2023-02-21 00:00:00               295.09\n"
     ]
    }
   ],
   "source": [
    "print(df)\n"
   ]
  },
  {
   "cell_type": "code",
   "execution_count": 5,
   "id": "225246fd-6992-473a-a37a-66497fff44de",
   "metadata": {},
   "outputs": [
    {
     "data": {
      "text/html": [
       "<div>\n",
       "<style scoped>\n",
       "    .dataframe tbody tr th:only-of-type {\n",
       "        vertical-align: middle;\n",
       "    }\n",
       "\n",
       "    .dataframe tbody tr th {\n",
       "        vertical-align: top;\n",
       "    }\n",
       "\n",
       "    .dataframe thead th {\n",
       "        text-align: right;\n",
       "    }\n",
       "</style>\n",
       "<table border=\"1\" class=\"dataframe\">\n",
       "  <thead>\n",
       "    <tr style=\"text-align: right;\">\n",
       "      <th></th>\n",
       "      <th>Ticker</th>\n",
       "      <th>QQQ US Equity</th>\n",
       "    </tr>\n",
       "  </thead>\n",
       "  <tbody>\n",
       "    <tr>\n",
       "      <th>55</th>\n",
       "      <td>2023-02-14 00:00:00</td>\n",
       "      <td>306.75</td>\n",
       "    </tr>\n",
       "    <tr>\n",
       "      <th>56</th>\n",
       "      <td>2023-02-15 00:00:00</td>\n",
       "      <td>309.1</td>\n",
       "    </tr>\n",
       "    <tr>\n",
       "      <th>57</th>\n",
       "      <td>2023-02-16 00:00:00</td>\n",
       "      <td>303.3</td>\n",
       "    </tr>\n",
       "    <tr>\n",
       "      <th>58</th>\n",
       "      <td>2023-02-17 00:00:00</td>\n",
       "      <td>301.16</td>\n",
       "    </tr>\n",
       "    <tr>\n",
       "      <th>59</th>\n",
       "      <td>2023-02-21 00:00:00</td>\n",
       "      <td>295.09</td>\n",
       "    </tr>\n",
       "  </tbody>\n",
       "</table>\n",
       "</div>"
      ],
      "text/plain": [
       "                 Ticker QQQ US Equity\n",
       "55  2023-02-14 00:00:00        306.75\n",
       "56  2023-02-15 00:00:00         309.1\n",
       "57  2023-02-16 00:00:00         303.3\n",
       "58  2023-02-17 00:00:00        301.16\n",
       "59  2023-02-21 00:00:00        295.09"
      ]
     },
     "execution_count": 5,
     "metadata": {},
     "output_type": "execute_result"
    }
   ],
   "source": [
    "df.tail()"
   ]
  },
  {
   "cell_type": "code",
   "execution_count": 6,
   "id": "444ffae8-1552-42e4-a21e-a5e5c0fad861",
   "metadata": {},
   "outputs": [],
   "source": [
    "df = df.drop([0,1,2,3])\n"
   ]
  },
  {
   "cell_type": "code",
   "execution_count": 7,
   "id": "0c4bfc48-862c-42b2-80e1-c3327790c0cc",
   "metadata": {},
   "outputs": [],
   "source": [
    "df.rename(columns = {'QQQ US Equity':'Price'}, inplace = True)\n"
   ]
  },
  {
   "cell_type": "code",
   "execution_count": 8,
   "id": "74429bc6-2c2a-4e8b-afc8-d7bcfea69acb",
   "metadata": {},
   "outputs": [],
   "source": [
    "qqq_return = df['Price'].pct_change().drop(4)"
   ]
  },
  {
   "cell_type": "code",
   "execution_count": null,
   "id": "b70bc877-ddcc-4a2e-b202-18502d882d3a",
   "metadata": {},
   "outputs": [],
   "source": []
  },
  {
   "cell_type": "code",
   "execution_count": null,
   "id": "f3cb1bae-28ba-441b-b1c9-89ab04a448ff",
   "metadata": {},
   "outputs": [],
   "source": []
  },
  {
   "cell_type": "code",
   "execution_count": 9,
   "id": "d5c78066-b60d-4b79-b1fc-2855bf7f08c5",
   "metadata": {},
   "outputs": [],
   "source": [
    "df.rename(columns = {'Ticker':'Date'}, inplace = True)"
   ]
  },
  {
   "cell_type": "code",
   "execution_count": 10,
   "id": "09dd8b66-00a6-4276-8fef-85c0abf109f8",
   "metadata": {},
   "outputs": [
    {
     "name": "stderr",
     "output_type": "stream",
     "text": [
      "C:\\Users\\analyst2.LCA\\AppData\\Local\\Temp\\ipykernel_13440\\3390915376.py:1: FutureWarning: Dropping of nuisance columns in DataFrame reductions (with 'numeric_only=None') is deprecated; in a future version this will raise TypeError.  Select only valid columns before calling the reduction.\n",
      "  df.std()\n"
     ]
    },
    {
     "data": {
      "text/plain": [
       "Price    14.419443\n",
       "dtype: float64"
      ]
     },
     "execution_count": 10,
     "metadata": {},
     "output_type": "execute_result"
    }
   ],
   "source": [
    "df.std()"
   ]
  },
  {
   "cell_type": "code",
   "execution_count": 11,
   "id": "4e0091b1-a20d-43cc-84f2-25e0c18bc922",
   "metadata": {},
   "outputs": [
    {
     "name": "stderr",
     "output_type": "stream",
     "text": [
      "C:\\Users\\analyst2.LCA\\AppData\\Local\\Temp\\ipykernel_13440\\3698961737.py:1: FutureWarning: Dropping of nuisance columns in DataFrame reductions (with 'numeric_only=None') is deprecated; in a future version this will raise TypeError.  Select only valid columns before calling the reduction.\n",
      "  df.mean()\n"
     ]
    },
    {
     "data": {
      "text/plain": [
       "Price    285.12125\n",
       "dtype: float64"
      ]
     },
     "execution_count": 11,
     "metadata": {},
     "output_type": "execute_result"
    }
   ],
   "source": [
    "df.mean()"
   ]
  },
  {
   "cell_type": "code",
   "execution_count": 12,
   "id": "281ab4c2-bf10-47d2-81b2-a76861d82c14",
   "metadata": {},
   "outputs": [
    {
     "data": {
      "text/plain": [
       "<AxesSubplot:>"
      ]
     },
     "execution_count": 12,
     "metadata": {},
     "output_type": "execute_result"
    },
    {
     "data": {
      "image/png": "[encoded data removed]",
      "text/plain": [
       "<Figure size 640x480 with 1 Axes>"
      ]
     },
     "metadata": {},
     "output_type": "display_data"
    }
   ],
   "source": [
    "qqq_return.plot.bar()"
   ]
  },
  {
   "cell_type": "code",
   "execution_count": 13,
   "id": "b0ef759c-7216-42ae-8b19-09ebf9354ba7",
   "metadata": {},
   "outputs": [],
   "source": [
    "import numpy as np"
   ]
  },
  {
   "cell_type": "code",
   "execution_count": 14,
   "id": "6e6cf148-e66e-4ddf-88d4-cb99ab484f8b",
   "metadata": {},
   "outputs": [
    {
     "data": {
      "text/plain": [
       "0.00589719116443943"
      ]
     },
     "execution_count": 14,
     "metadata": {},
     "output_type": "execute_result"
    }
   ],
   "source": [
    "(1+qqq_return).prod()-1"
   ]
  },
  {
   "cell_type": "code",
   "execution_count": 15,
   "id": "5a576a00-71f3-41d7-9f74-cce5b560d5a8",
   "metadata": {},
   "outputs": [
    {
     "data": {
      "text/plain": [
       "5     0.001227\n",
       "6    -0.003983\n",
       "7    -0.016783\n",
       "8    -0.020720\n",
       "9    -0.004083\n",
       "10    0.011835\n",
       "11   -0.006377\n",
       "12    0.012551\n",
       "13    0.010750\n",
       "14   -0.007414\n",
       "15   -0.033576\n",
       "16   -0.009534\n",
       "17   -0.016408\n",
       "18   -0.000778\n",
       "19    0.014506\n",
       "20   -0.024465\n",
       "21    0.002249\n",
       "22   -0.014138\n",
       "23   -0.013203\n",
       "24    0.024375\n",
       "25   -0.000601\n",
       "26   -0.006760\n",
       "27    0.004764\n",
       "28   -0.015654\n",
       "29    0.027601\n",
       "30    0.006473\n",
       "31    0.008465\n",
       "32    0.017300\n",
       "33    0.005404\n",
       "34    0.006880\n",
       "35    0.002029\n",
       "36   -0.013000\n",
       "37   -0.009824\n",
       "38    0.027367\n",
       "39    0.022216\n",
       "40   -0.002042\n",
       "41   -0.002219\n",
       "42    0.019497\n",
       "43    0.009954\n",
       "44   -0.020219\n",
       "45    0.014986\n",
       "46    0.021383\n",
       "47    0.035890\n",
       "48   -0.017772\n",
       "49   -0.008459\n",
       "50    0.020719\n",
       "51   -0.017781\n",
       "52   -0.008838\n",
       "53   -0.006563\n",
       "54    0.016016\n",
       "55    0.007389\n",
       "56    0.007661\n",
       "57   -0.018764\n",
       "58   -0.007056\n",
       "59   -0.020155\n",
       "Name: Price, dtype: float64"
      ]
     },
     "execution_count": 15,
     "metadata": {},
     "output_type": "execute_result"
    }
   ],
   "source": [
    "qqq_return"
   ]
  },
  {
   "cell_type": "code",
   "execution_count": 20,
   "id": "389592e3-fcba-4bbe-888c-ab7633cd52c7",
   "metadata": {},
   "outputs": [
    {
     "data": {
      "text/plain": [
       "0.053536665623861564"
      ]
     },
     "execution_count": 20,
     "metadata": {},
     "output_type": "execute_result"
    }
   ],
   "source": [
    "qqq_return.std()*np.sqrt(12)"
   ]
  },
  {
   "cell_type": "code",
   "execution_count": 18,
   "id": "fa86904f-f150-436d-9181-99ace09734a4",
   "metadata": {},
   "outputs": [
    {
     "data": {
      "text/plain": [
       "(55,)"
      ]
     },
     "execution_count": 18,
     "metadata": {},
     "output_type": "execute_result"
    }
   ],
   "source": [
    "qqq_return.shape\n"
   ]
  },
  {
   "cell_type": "code",
   "execution_count": null,
   "id": "f31c4ced-bf9e-44aa-a00e-fea8debb6c79",
   "metadata": {},
   "outputs": [],
   "source": []
  }
 ],
 "metadata": {
  "kernelspec": {
   "display_name": "Python 3 (ipykernel)",
   "language": "python",
   "name": "python3"
  },
  "language_info": {
   "codemirror_mode": {
    "name": "ipython",
    "version": 3
   },
   "file_extension": ".py",
   "mimetype": "text/x-python",
   "name": "python",
   "nbconvert_exporter": "python",
   "pygments_lexer": "ipython3",
   "version": "3.9.13"
  }
 },
 "nbformat": 4,
 "nbformat_minor": 5
}
